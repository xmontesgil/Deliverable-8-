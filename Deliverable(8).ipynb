{
  "nbformat": 4,
  "nbformat_minor": 0,
  "metadata": {
    "colab": {
      "provenance": []
    },
    "kernelspec": {
      "name": "python3",
      "display_name": "Python 3"
    },
    "language_info": {
      "name": "python"
    }
  },
  "cells": [
    {
      "cell_type": "code",
      "execution_count": 1,
      "metadata": {
        "id": "DmzzvBr82TLV"
      },
      "outputs": [],
      "source": [
        "import random"
      ]
    },
    {
      "cell_type": "code",
      "source": [
        "# Function to randomly populate a list with integers between 10 and 50\n",
        "def populate_list(length):\n",
        "  \"\"\"\n",
        "  Populates a list with integers between 10 and 50 randomly generated. \n",
        "  \"\"\"\n",
        "  lst = []\n",
        "  for i in range(length):\n",
        "    lst.append(random.randint(10,50))\n",
        "  return lst"
      ],
      "metadata": {
        "id": "9nTTstBX2m_b"
      },
      "execution_count": 2,
      "outputs": []
    },
    {
      "cell_type": "code",
      "source": [
        "# Function to sum all the elements in a list\n",
        "def sum_list(lst):\n",
        "  \"\"\"\n",
        "  Returns the sum of all elements in the list.\n",
        "  \"\"\"\n",
        "  return sum(lst)"
      ],
      "metadata": {
        "id": "vYvwCko63TLT"
      },
      "execution_count": 3,
      "outputs": []
    },
    {
      "cell_type": "code",
      "source": [
        "# Loop to ask the user for input and validate it\n",
        "while True:\n",
        "    # Ask the user for an integer input between 5 and 15 \n",
        "    user_entry = input(\"Please enter an integer number between 5 and 15: \")\n",
        "    try:\n",
        "        user_entry = int(user_entry)\n",
        "        # Check if the user's entry is within the valid range\n",
        "        if user_entry >= 5 and user_entry <= 15:\n",
        "          break\n",
        "        else: \n",
        "          # Print an error message if the user's entry is not within the valid range\n",
        "          print(\"Invalid entry. Please try again.\")\n",
        "    except ValueError:\n",
        "        # Print an error message if the user's entry is not a valid integer\n",
        "        print(\"Invalid entry. Please try again.\")\n",
        "          \n"
      ],
      "metadata": {
        "colab": {
          "base_uri": "https://localhost:8080/"
        },
        "id": "CWMuUmBW4Ep3",
        "outputId": "0e9d67b0-aaba-4a3c-9c8c-4d00e407d8d6"
      },
      "execution_count": 4,
      "outputs": [
        {
          "name": "stdout",
          "output_type": "stream",
          "text": [
            "Please enter an integer number between 5 and 15: 10\n"
          ]
        }
      ]
    },
    {
      "cell_type": "code",
      "source": [
        "# Call populate_list function to generate a random list of integers \n",
        "random_lst = populate_list(user_entry)"
      ],
      "metadata": {
        "id": "dVKcKpL_6oCq"
      },
      "execution_count": 5,
      "outputs": []
    },
    {
      "cell_type": "code",
      "source": [
        "# Print the elements of the random list to the console\n",
        "print(\"The elements of the array are: \", end=\"\")\n",
        "for num in random_lst:\n",
        "    print(num, end=\" \")"
      ],
      "metadata": {
        "colab": {
          "base_uri": "https://localhost:8080/"
        },
        "id": "ybT6B-oZ7TMp",
        "outputId": "51b5446b-4810-48f2-bc45-9240dc95395a"
      },
      "execution_count": 7,
      "outputs": [
        {
          "output_type": "stream",
          "name": "stdout",
          "text": [
            "The elements of the array are: 11 11 38 49 31 47 36 18 46 47 "
          ]
        }
      ]
    },
    {
      "cell_type": "code",
      "source": [
        "# Call sum_list function to get the total sum of the random list\n",
        "total_sum = sum_list(random_lst)"
      ],
      "metadata": {
        "id": "NWCsiEzv7qe3"
      },
      "execution_count": 8,
      "outputs": []
    },
    {
      "cell_type": "code",
      "source": [
        "# Print the total sum to the console\n",
        "print(\"\\nThe sum is:\", total_sum)"
      ],
      "metadata": {
        "colab": {
          "base_uri": "https://localhost:8080/"
        },
        "id": "vVhSpP4C72s6",
        "outputId": "cea3a8f2-46dd-47c8-b07e-891c9a2fd944"
      },
      "execution_count": 9,
      "outputs": [
        {
          "output_type": "stream",
          "name": "stdout",
          "text": [
            "\n",
            "The sum is: 334\n"
          ]
        }
      ]
    }
  ]
}